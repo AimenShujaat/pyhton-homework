{
 "cells": [
  {
   "cell_type": "code",
   "execution_count": 1,
   "id": "82187484-7471-474a-ae61-3073f8538b2b",
   "metadata": {},
   "outputs": [],
   "source": [
    "# Import Budget Data"
   ]
  },
  {
   "cell_type": "code",
   "execution_count": 2,
   "id": "ce036d12-96cf-4841-b111-de20d29c70be",
   "metadata": {},
   "outputs": [],
   "source": [
    "import os"
   ]
  },
  {
   "cell_type": "code",
   "execution_count": 3,
   "id": "53cbeb16-0415-41fa-b918-d8d21007fb12",
   "metadata": {},
   "outputs": [],
   "source": [
    "import csv"
   ]
  },
  {
   "cell_type": "code",
   "execution_count": 4,
   "id": "310689dc-4a71-44b5-95f2-5e602f244e30",
   "metadata": {},
   "outputs": [],
   "source": [
    "from pathlib import Path"
   ]
  },
  {
   "cell_type": "code",
   "execution_count": 5,
   "id": "a9470603-6059-4a65-9896-5a4580d8b25d",
   "metadata": {},
   "outputs": [],
   "source": [
    "input_file = Path(\"python-homework\",\"PyBank\", \"budget_data.csv\")"
   ]
  },
  {
   "cell_type": "code",
   "execution_count": null,
   "id": "e72c6737-792b-49f4-9d13-eddeaf95f1de",
   "metadata": {},
   "outputs": [],
   "source": []
  }
 ],
 "metadata": {
  "kernelspec": {
   "display_name": "Python 3 (ipykernel)",
   "language": "python",
   "name": "python3"
  },
  "language_info": {
   "codemirror_mode": {
    "name": "ipython",
    "version": 3
   },
   "file_extension": ".py",
   "mimetype": "text/x-python",
   "name": "python",
   "nbconvert_exporter": "python",
   "pygments_lexer": "ipython3",
   "version": "3.9.13"
  }
 },
 "nbformat": 4,
 "nbformat_minor": 5
}
